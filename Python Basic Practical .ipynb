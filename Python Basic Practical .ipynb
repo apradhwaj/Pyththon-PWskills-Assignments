{
 "cells": [
  {
   "cell_type": "code",
   "execution_count": 1,
   "id": "1d10e903-9598-46b9-bb4b-278eadd1457f",
   "metadata": {},
   "outputs": [
    {
     "name": "stdout",
     "output_type": "stream",
     "text": [
      "Hello World!\n"
     ]
    }
   ],
   "source": [
    "# Q1- Write a Python program to print \"Hello, World!\"\n",
    "print(\"Hello World!\")"
   ]
  },
  {
   "cell_type": "code",
   "execution_count": 6,
   "id": "bcc1c9b2-804d-4b55-944e-91b259aeeb6e",
   "metadata": {},
   "outputs": [
    {
     "name": "stdout",
     "output_type": "stream",
     "text": [
      "My Name is Apradhwaj Singh Chauhan\n",
      "I am 23 years old.\n"
     ]
    }
   ],
   "source": [
    "# Q2- Write a Python program that displays your name and age\n",
    "name= \"Apradhwaj Singh Chauhan\"\n",
    "age= 23\n",
    "print(\"My Name is\", name)\n",
    "print(\"I am\", age, \"years old.\")"
   ]
  },
  {
   "cell_type": "code",
   "execution_count": 8,
   "id": "29cb4729-2a7c-4b1b-a000-644d50abb9a4",
   "metadata": {},
   "outputs": [
    {
     "name": "stdout",
     "output_type": "stream",
     "text": [
      "\n",
      "Here is a list of the Python keywords.  Enter any keyword to get more help.\n",
      "\n",
      "False               class               from                or\n",
      "None                continue            global              pass\n",
      "True                def                 if                  raise\n",
      "and                 del                 import              return\n",
      "as                  elif                in                  try\n",
      "assert              else                is                  while\n",
      "async               except              lambda              with\n",
      "await               finally             nonlocal            yield\n",
      "break               for                 not                 \n",
      "\n"
     ]
    }
   ],
   "source": [
    "# Q3- Write code to print all the pre-defined keywords in Python using the keyword library\n",
    "help(\"keywords\")"
   ]
  },
  {
   "cell_type": "code",
   "execution_count": 10,
   "id": "f29135c4-9fdd-4c85-b235-a8f058760267",
   "metadata": {},
   "outputs": [
    {
     "name": "stdout",
     "output_type": "stream",
     "text": [
      "Original List [100, 101, 102, 103, 104]\n",
      "Modified List [100, 101, 22, 103, 104]\n",
      "Original Tuple (25, 26, 27, 28)\n"
     ]
    },
    {
     "ename": "TypeError",
     "evalue": "'tuple' object does not support item assignment",
     "output_type": "error",
     "traceback": [
      "\u001b[1;31m---------------------------------------------------------------------------\u001b[0m",
      "\u001b[1;31mTypeError\u001b[0m                                 Traceback (most recent call last)",
      "Cell \u001b[1;32mIn[10], line 11\u001b[0m\n\u001b[0;32m      9\u001b[0m \u001b[38;5;28mprint\u001b[39m(\u001b[38;5;124m\"\u001b[39m\u001b[38;5;124mOriginal Tuple\u001b[39m\u001b[38;5;124m\"\u001b[39m, mytuple)\n\u001b[0;32m     10\u001b[0m \u001b[38;5;66;03m#Modify Tuple will give error\u001b[39;00m\n\u001b[1;32m---> 11\u001b[0m mytuple[\u001b[38;5;241m1\u001b[39m]\u001b[38;5;241m=\u001b[39m \u001b[38;5;241m19\u001b[39m\n",
      "\u001b[1;31mTypeError\u001b[0m: 'tuple' object does not support item assignment"
     ]
    }
   ],
   "source": [
    "# Q4- Create a list and tuple in Python, and demonstrate how attempting to change an element works differently for each.\n",
    "mylist = [100,101,102,103,104]\n",
    "print(\"Original List\", mylist)\n",
    "# Modifying Element\n",
    "mylist[2]= 22\n",
    "print(\"Modified List\", mylist,)\n",
    "# Tuple\n",
    "mytuple = (25,26,27,28)\n",
    "print(\"Original Tuple\", mytuple)\n",
    "#Modify Tuple will give error\n",
    "mytuple[1]= 19\n"
   ]
  },
  {
   "cell_type": "code",
   "execution_count": 11,
   "id": "f0e9e628-d812-4662-9a8c-0c5c53fbc45b",
   "metadata": {},
   "outputs": [
    {
     "name": "stdout",
     "output_type": "stream",
     "text": [
      "Before function call:\n",
      "x = 5\n",
      "y = [1, 2, 3]\n",
      "Inside function before modification:\n",
      "Immutable: 5\n",
      "Mutable: [1, 2, 3]\n",
      "Inside function after modification:\n",
      "Immutable: 15\n",
      "Mutable: [1, 2, 3, 100]\n",
      "\n",
      "After function call:\n",
      "x = 5\n",
      "y = [1, 2, 3, 100]\n"
     ]
    }
   ],
   "source": [
    "# Q5 - Write a function to demonstrate the behavior of mutable and immutable arguments.\n",
    "# Function that modifies both types of arguments\n",
    "def modify_arguments(immutable_arg, mutable_arg):\n",
    "    print(\"Inside function before modification:\")\n",
    "    print(\"Immutable:\", immutable_arg)\n",
    "    print(\"Mutable:\", mutable_arg)\n",
    "\n",
    "    # Try modifying both\n",
    "    immutable_arg += 10         # This creates a new int object\n",
    "    mutable_arg.append(100)     # This modifies the original list\n",
    "\n",
    "    print(\"Inside function after modification:\")\n",
    "    print(\"Immutable:\", immutable_arg)\n",
    "    print(\"Mutable:\", mutable_arg)\n",
    "\n",
    "\n",
    "# Immutable argument: integer\n",
    "x = 5\n",
    "\n",
    "# Mutable argument: list\n",
    "y = [1, 2, 3]\n",
    "\n",
    "print(\"Before function call:\")\n",
    "print(\"x =\", x)\n",
    "print(\"y =\", y)\n",
    "\n",
    "# Call the function\n",
    "modify_arguments(x, y)\n",
    "\n",
    "print(\"\\nAfter function call:\")\n",
    "print(\"x =\", x)  # unchanged\n",
    "print(\"y =\", y)  # changed\n"
   ]
  },
  {
   "cell_type": "code",
   "execution_count": 14,
   "id": "74ca2213-c642-48f0-a4cc-fe0e674383fc",
   "metadata": {},
   "outputs": [
    {
     "name": "stdin",
     "output_type": "stream",
     "text": [
      "First Number:  25\n",
      "Second Number:  36\n"
     ]
    },
    {
     "name": "stdout",
     "output_type": "stream",
     "text": [
      "Addition: 25.0 + 36.0 = 61.0\n",
      "Subtraction: 25.0 - 36.0 = -11.0\n",
      "Multiplication: 25.0 * 36.0 = 900.0\n"
     ]
    }
   ],
   "source": [
    "# Q6 - Write a program that performs basic arithmetic operations on two user-input numbers.\n",
    "\n",
    "# User Input\n",
    "num1= float(input(\"First Number: \"))\n",
    "num2= float(input(\"Second Number: \"))\n",
    "# Perfoming Arithmetic Operations\n",
    "add= num1 + num2\n",
    "sub= num1- num2\n",
    "multiply= num1 * num2\n",
    "# Results\n",
    "print(f\"Addition: {num1} + {num2} = {add}\")\n",
    "print(f\"Subtraction: {num1} - {num2} = {sub}\")\n",
    "print(f\"Multiplication: {num1} * {num2} = {multiply}\")\n"
   ]
  },
  {
   "cell_type": "code",
   "execution_count": 15,
   "id": "fdbf2a15-4e7a-40b2-bec1-4aadb4cbc652",
   "metadata": {},
   "outputs": [
    {
     "name": "stdin",
     "output_type": "stream",
     "text": [
      "Enter A (True/False):  True\n",
      "Enter B (True/False):  Flase\n"
     ]
    },
    {
     "name": "stdout",
     "output_type": "stream",
     "text": [
      "A AND B: False\n",
      "A OR B: True\n",
      "NOT A: False\n",
      "NOT B: True\n"
     ]
    }
   ],
   "source": [
    "# Q7 Write a program to demonstrate the use of logical operators.\n",
    "\n",
    "# Get boolean values\n",
    "a = input(\"Enter A (True/False): \").strip().capitalize()\n",
    "b = input(\"Enter B (True/False): \").strip().capitalize()\n",
    "\n",
    "# Convert \n",
    "a = True if a == \"True\" else False\n",
    "b = True if b == \"True\" else False\n",
    "\n",
    "#logical operators\n",
    "\n",
    "print(f\"A AND B: {a and b}\")\n",
    "print(f\"A OR B: {a or b}\")\n",
    "print(f\"NOT A: {not a}\")\n",
    "print(f\"NOT B: {not b}\")\n"
   ]
  },
  {
   "cell_type": "code",
   "execution_count": 16,
   "id": "5fc11846-d2f5-4133-a44e-a25b39af792f",
   "metadata": {},
   "outputs": [
    {
     "name": "stdout",
     "output_type": "stream",
     "text": [
      "1\n",
      "2\n",
      "3\n",
      "4\n",
      "5\n",
      "6\n",
      "7\n",
      "8\n",
      "9\n",
      "10\n"
     ]
    }
   ],
   "source": [
    "# Q8  Write a for loop to print numbers from 1 to 10.\n",
    "for i in range(1,11):\n",
    "    print(i)\n"
   ]
  },
  {
   "cell_type": "code",
   "execution_count": 18,
   "id": "b2a364cb-a3a6-4b63-abac-4012a67fd059",
   "metadata": {},
   "outputs": [
    {
     "name": "stdout",
     "output_type": "stream",
     "text": [
      "Sum of even numbers from 1 to 50 is: 650\n"
     ]
    }
   ],
   "source": [
    "# Q9 Write a Python program to find the sum of all even numbers between 1 and 50.\n",
    "\n",
    "even_sum= 0\n",
    "for num in range(1, 51):\n",
    "    if num % 2 == 0:\n",
    "        even_sum += num\n",
    "        \n",
    "print(\"Sum of even numbers from 1 to 50 is:\", even_sum)\n",
    "\n"
   ]
  },
  {
   "cell_type": "code",
   "execution_count": 19,
   "id": "44e0f66e-3d72-4489-8861-ef60d21952bd",
   "metadata": {},
   "outputs": [
    {
     "name": "stdin",
     "output_type": "stream",
     "text": [
      "Enter a string to reverse:  100\n"
     ]
    },
    {
     "name": "stdout",
     "output_type": "stream",
     "text": [
      "Reversed string: 001\n"
     ]
    }
   ],
   "source": [
    "#Q10  Write a program to reverse a string using a while loop.\n",
    "\n",
    "original_str = input(\"Enter a string to reverse: \")\n",
    "reversed_str = \"\"\n",
    "index = len(original_str) - 1\n",
    "while index >= 0:\n",
    "    reversed_str += original_str[index]\n",
    "    index -= 1\n",
    "\n",
    "print(\"Reversed string:\", reversed_str)\n"
   ]
  },
  {
   "cell_type": "code",
   "execution_count": null,
   "id": "48659ea0-afa9-4f39-8cd4-32cb1a043eb0",
   "metadata": {},
   "outputs": [],
   "source": []
  }
 ],
 "metadata": {
  "kernelspec": {
   "display_name": "Python [conda env:base] *",
   "language": "python",
   "name": "conda-base-py"
  },
  "language_info": {
   "codemirror_mode": {
    "name": "ipython",
    "version": 3
   },
   "file_extension": ".py",
   "mimetype": "text/x-python",
   "name": "python",
   "nbconvert_exporter": "python",
   "pygments_lexer": "ipython3",
   "version": "3.12.7"
  }
 },
 "nbformat": 4,
 "nbformat_minor": 5
}
